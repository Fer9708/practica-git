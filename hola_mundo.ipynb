{
  "nbformat": 4,
  "nbformat_minor": 0,
  "metadata": {
    "colab": {
      "provenance": [],
      "include_colab_link": true
    },
    "kernelspec": {
      "name": "python3",
      "display_name": "Python 3"
    },
    "language_info": {
      "name": "python"
    }
  },
  "cells": [
    {
      "cell_type": "markdown",
      "metadata": {
        "id": "view-in-github",
        "colab_type": "text"
      },
      "source": [
        "<a href=\"https://colab.research.google.com/github/Fer9708/practica-git/blob/main/hola_mundo.ipynb\" target=\"_parent\"><img src=\"https://colab.research.google.com/assets/colab-badge.svg\" alt=\"Open In Colab\"/></a>"
      ]
    },
    {
      "cell_type": "markdown",
      "metadata": {
        "id": "7sFS0jBEDTIc"
      },
      "source": [
        "# Hola mundo\n",
        "\n",
        "\n",
        "Sientete libre de modificar el código para probar las *salidas*"
      ]
    },
    {
      "cell_type": "markdown",
      "metadata": {
        "id": "zBL0G9fkyz9K"
      },
      "source": [
        "## print\n",
        "\n",
        " Este comando y sus alternativas de uso son importantes para cuando escribamos código grande y querramos ver el estado del código."
      ]
    },
    {
      "cell_type": "code",
      "metadata": {
        "id": "s4CWoALS_d6q",
        "outputId": "7dc6fa22-47ea-4398-c297-60345b2d1176",
        "colab": {
          "base_uri": "https://localhost:8080/"
        }
      },
      "source": [
        "print(\"Hola mundo\")"
      ],
      "execution_count": 1,
      "outputs": [
        {
          "output_type": "stream",
          "name": "stdout",
          "text": [
            "Hola mundo\n"
          ]
        }
      ]
    },
    {
      "cell_type": "code",
      "metadata": {
        "id": "01mg2hORzFYh",
        "outputId": "18e78b30-a233-419a-9559-0417b43f714b",
        "colab": {
          "base_uri": "https://localhost:8080/"
        }
      },
      "source": [
        "nombre = \"Luisa\"\n",
        "print('Hola, ' + nombre + '! Cómo estas?')"
      ],
      "execution_count": 2,
      "outputs": [
        {
          "output_type": "stream",
          "name": "stdout",
          "text": [
            "Hola, Luisa! Cómo estas?\n"
          ]
        }
      ]
    },
    {
      "cell_type": "code",
      "metadata": {
        "id": "JuBPejJQ2G9o",
        "outputId": "9652d7df-6295-4461-dd7b-f6222ebcf0bd",
        "colab": {
          "base_uri": "https://localhost:8080/"
        }
      },
      "source": [
        "nombre = \"Fernanda\"\n",
        "print('Hola, ', nombre, '! Cómo estas?')"
      ],
      "execution_count": 3,
      "outputs": [
        {
          "output_type": "stream",
          "name": "stdout",
          "text": [
            "Hola,  Fernanda ! Cómo estas?\n"
          ]
        }
      ]
    },
    {
      "cell_type": "code",
      "metadata": {
        "id": "QCRMj7VG1Cdg",
        "outputId": "fb7396d6-8d77-4b53-e758-fa49727a1bef",
        "colab": {
          "base_uri": "https://localhost:8080/"
        }
      },
      "source": [
        "nombre = \"Luisa\"\n",
        "edad = 26\n",
        "print(f'Hola, {nombre}! Cómo estas?')"
      ],
      "execution_count": 12,
      "outputs": [
        {
          "output_type": "stream",
          "name": "stdout",
          "text": [
            "Hola, Luisa! Cómo estas?\n"
          ]
        }
      ]
    },
    {
      "cell_type": "markdown",
      "metadata": {
        "id": "HryGo1xx3d8m"
      },
      "source": [
        "En algunos escenarios queremos ahorrarnos el escribir mucho texto para imrimir textos en diferentes lineas"
      ]
    },
    {
      "cell_type": "code",
      "metadata": {
        "id": "Dc_lrH1l3joI",
        "outputId": "9c8c66d7-7126-4039-bb4e-17824a7b4c59",
        "colab": {
          "base_uri": "https://localhost:8080/"
        }
      },
      "source": [
        "print(\"linea1\")\n",
        "print(\"linea2\")\n",
        "print(\"linea3\")"
      ],
      "execution_count": 13,
      "outputs": [
        {
          "output_type": "stream",
          "name": "stdout",
          "text": [
            "linea1\n",
            "linea2\n",
            "linea3\n"
          ]
        }
      ]
    },
    {
      "cell_type": "markdown",
      "metadata": {
        "id": "AkjfDMz-3znt"
      },
      "source": [
        "podemos usar dentro del texto a imprimir `\"\\n\"` que en cuanto print lo encuentra dentro del texto, se encargade dar un salto de linea"
      ]
    },
    {
      "cell_type": "code",
      "metadata": {
        "id": "JlQpDT8z3Lxh",
        "outputId": "da9077b4-9c72-4e48-df72-c389b0d62541",
        "colab": {
          "base_uri": "https://localhost:8080/"
        }
      },
      "source": [
        "print('linea1\\nlinea2\\nlinea3')"
      ],
      "execution_count": 14,
      "outputs": [
        {
          "output_type": "stream",
          "name": "stdout",
          "text": [
            "linea1\n",
            "linea2\n",
            "linea3\n"
          ]
        }
      ]
    },
    {
      "cell_type": "markdown",
      "metadata": {
        "id": "9yvqUHeI1TFE"
      },
      "source": [
        "## Separadores\n",
        "al llamar al comando print podemos especificar con sep como queremos separar lo que mandemos al comando print\n",
        "\n",
        "\n",
        "```\n",
        "sep = \"cualquier simbolo o texto\"\n",
        "```\n",
        "\n"
      ]
    },
    {
      "cell_type": "code",
      "metadata": {
        "id": "NPMrLk8L1RbA",
        "outputId": "5c6d4ab4-2cbf-457a-84eb-842ebda58cf3",
        "colab": {
          "base_uri": "https://localhost:8080/"
        }
      },
      "source": [
        "print(\"hola\", \"mundo\", sep=',')"
      ],
      "execution_count": 15,
      "outputs": [
        {
          "output_type": "stream",
          "name": "stdout",
          "text": [
            "hola,mundo\n"
          ]
        }
      ]
    },
    {
      "cell_type": "code",
      "metadata": {
        "id": "ab3pVuHm1bGk",
        "outputId": "de01c4cb-cab1-4e9d-8c02-a710d0b8ac77",
        "colab": {
          "base_uri": "https://localhost:8080/"
        }
      },
      "source": [
        "print(\"hola\", \"mundo\", sep='\\n')"
      ],
      "execution_count": 16,
      "outputs": [
        {
          "output_type": "stream",
          "name": "stdout",
          "text": [
            "hola\n",
            "mundo\n"
          ]
        }
      ]
    },
    {
      "cell_type": "code",
      "metadata": {
        "id": "GgdRtg5b1bIi",
        "outputId": "03fd87cc-716e-4a5a-f809-3037eb746c91",
        "colab": {
          "base_uri": "https://localhost:8080/"
        }
      },
      "source": [
        "print(\"hola\", \"mundo\", sep='/')"
      ],
      "execution_count": 17,
      "outputs": [
        {
          "output_type": "stream",
          "name": "stdout",
          "text": [
            "hola/mundo\n"
          ]
        }
      ]
    },
    {
      "cell_type": "code",
      "metadata": {
        "id": "gV8yfqq71bKv",
        "outputId": "c90d55ff-b873-45d0-be22-2161805a3556",
        "colab": {
          "base_uri": "https://localhost:8080/"
        }
      },
      "source": [
        "print('home', 'user', 'documents', sep='/')"
      ],
      "execution_count": 19,
      "outputs": [
        {
          "output_type": "stream",
          "name": "stdout",
          "text": [
            "home/user/documents\n"
          ]
        }
      ]
    },
    {
      "cell_type": "code",
      "metadata": {
        "id": "o74U5fOs1tqf",
        "outputId": "eeebcac3-1f2a-4fa7-83fb-8974bbfdebb7",
        "colab": {
          "base_uri": "https://localhost:8080/"
        }
      },
      "source": [
        "print(3, 'Python101', 'Algo', sep='#@$%#$% ')"
      ],
      "execution_count": 20,
      "outputs": [
        {
          "output_type": "stream",
          "name": "stdout",
          "text": [
            "3#@$%#$% Python101#@$%#$% Algo\n"
          ]
        }
      ]
    },
    {
      "cell_type": "markdown",
      "metadata": {
        "id": "Qbp7W82p1bUA"
      },
      "source": [
        "### Texto al final\n",
        "\n",
        "para imprimir al final del texto un texto adicional, podemos usar\n",
        "\n",
        "\n",
        "```\n",
        "end = \"cualquier simbolo o texto\"\n",
        "```\n",
        "\n",
        "por defecto cuando usamos print, al final del texto se imprime un salto de linea, con este parametro *end* podremos cambiarlo\n"
      ]
    },
    {
      "cell_type": "code",
      "metadata": {
        "id": "m9MFfLdA1nnF",
        "outputId": "d2cbf3c6-554f-49a7-eeaa-348dbc559b29",
        "colab": {
          "base_uri": "https://localhost:8080/"
        }
      },
      "source": [
        "print(\"linea1\", end=\" \")\n",
        "print(\"linea2\", end=\" \" )\n",
        "print(\"linea3\")"
      ],
      "execution_count": 26,
      "outputs": [
        {
          "output_type": "stream",
          "name": "stdout",
          "text": [
            "linea1 linea2 linea3\n"
          ]
        }
      ]
    },
    {
      "cell_type": "code",
      "metadata": {
        "id": "g4eClXTW5n0Y",
        "outputId": "d8000c3c-6059-41f2-ac97-aa8ca5af7663",
        "colab": {
          "base_uri": "https://localhost:8080/"
        }
      },
      "source": [
        "print(123, end='asdfasdf')\n",
        "print(\"linea2\", end=',')\n",
        "print(\"linea3\", end='.')"
      ],
      "execution_count": 27,
      "outputs": [
        {
          "output_type": "stream",
          "name": "stdout",
          "text": [
            "123asdfasdflinea2,linea3."
          ]
        }
      ]
    },
    {
      "cell_type": "markdown",
      "source": [
        "## Lectura\n",
        "\n",
        "Para poder leer texto introducido por teclado se usa la instrucción `input`"
      ],
      "metadata": {
        "id": "2oD21TvWG6hi"
      }
    },
    {
      "cell_type": "code",
      "metadata": {
        "id": "xDbgcOonu9Mw",
        "outputId": "b9cc06a5-8999-46c7-b2f6-8d228d776996",
        "colab": {
          "base_uri": "https://localhost:8080/"
        }
      },
      "source": [
        "var = input()\n",
        "print(nombre, \"soy yo\")"
      ],
      "execution_count": 28,
      "outputs": [
        {
          "output_type": "stream",
          "name": "stdout",
          "text": [
            "Luisa\n",
            "Luisa soy yo\n"
          ]
        }
      ]
    },
    {
      "cell_type": "markdown",
      "source": [
        "El valor almacenado será una cadena de texto"
      ],
      "metadata": {
        "id": "U4CQe3KCHJTL"
      }
    },
    {
      "cell_type": "markdown",
      "source": [
        "## Ejercicio\n",
        "\n",
        "Leer tu nombre por teclado e imprimir `Hola {Luisa}`\n"
      ],
      "metadata": {
        "id": "Ak3fIZyoHVT3"
      }
    },
    {
      "cell_type": "code",
      "source": [
        "nombre = input ()\n",
        "print(f\"Hola, {nombre}\")"
      ],
      "metadata": {
        "id": "aW7ubezbUWc6",
        "outputId": "7fa9adfb-cc6a-44cb-8ccb-6a5695c90abb",
        "colab": {
          "base_uri": "https://localhost:8080/"
        }
      },
      "execution_count": 30,
      "outputs": [
        {
          "output_type": "stream",
          "name": "stdout",
          "text": [
            "Hola\n",
            "Hola, Hola\n"
          ]
        }
      ]
    }
  ]
}